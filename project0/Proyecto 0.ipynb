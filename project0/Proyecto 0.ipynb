{
 "cells": [
  {
   "cell_type": "code",
   "execution_count": 1,
   "metadata": {},
   "outputs": [],
   "source": [
    "import numpy as np"
   ]
  },
  {
   "cell_type": "markdown",
   "metadata": {},
   "source": [
    "El método `np.random.random(size)` retorna una matriz del tamaño indicado de números aleatorios extraidos de una distribución uniforme "
   ]
  },
  {
   "cell_type": "code",
   "execution_count": 2,
   "metadata": {},
   "outputs": [],
   "source": [
    "def randomization(n):\n",
    "    \"\"\"\n",
    "    Arg:\n",
    "      n - an integer\n",
    "    Returns:\n",
    "      A - a randomly-generated nx1 Numpy array.\n",
    "    \"\"\"\n",
    "    #Your code here\n",
    "    A = np.random.random([n,1])\n",
    "    return A"
   ]
  },
  {
   "cell_type": "code",
   "execution_count": 3,
   "metadata": {},
   "outputs": [
    {
     "data": {
      "text/plain": [
       "array([[0.56619292],\n",
       "       [0.45956873],\n",
       "       [0.86534224],\n",
       "       [0.76569553]])"
      ]
     },
     "execution_count": 3,
     "metadata": {},
     "output_type": "execute_result"
    }
   ],
   "source": [
    "randomization(4)"
   ]
  },
  {
   "cell_type": "code",
   "execution_count": 4,
   "metadata": {},
   "outputs": [],
   "source": [
    "def operations(h, w):\n",
    "    \"\"\"\n",
    "    Takes two inputs, h and w, and makes two Numpy arrays A and B of size\n",
    "    h x w, and returns A, B, and s, the sum of A and B.\n",
    "\n",
    "    Arg:\n",
    "      h - an integer describing the height of A and B\n",
    "      w - an integer describing the width of A and B\n",
    "    Returns (in this order):\n",
    "      A - a randomly-generated h x w Numpy array.\n",
    "      B - a randomly-generated h x w Numpy array.\n",
    "      s - the sum of A and B.\n",
    "    \"\"\"\n",
    "    A = np.random.random([h, w])\n",
    "    B = np.random.random([h, w])\n",
    "    s = A + B\n",
    "    return A, B, s"
   ]
  },
  {
   "cell_type": "code",
   "execution_count": 5,
   "metadata": {},
   "outputs": [
    {
     "data": {
      "text/plain": [
       "(array([[0.68391116, 0.54906779, 0.44415005, 0.70451213, 0.34225747],\n",
       "        [0.61141321, 0.02230252, 0.00750928, 0.28934292, 0.81193967],\n",
       "        [0.15456772, 0.02964087, 0.72008289, 0.22132084, 0.82533653]]),\n",
       " array([[0.58567456, 0.73661706, 0.17625919, 0.5204812 , 0.02628717],\n",
       "        [0.14563939, 0.23930779, 0.59815774, 0.94179445, 0.42916964],\n",
       "        [0.83818177, 0.41259292, 0.723084  , 0.87077351, 0.56781571]]),\n",
       " array([[1.26958572, 1.28568485, 0.62040924, 1.22499333, 0.36854465],\n",
       "        [0.7570526 , 0.2616103 , 0.60566702, 1.23113737, 1.24110931],\n",
       "        [0.99274949, 0.44223379, 1.44316689, 1.09209435, 1.39315224]]))"
      ]
     },
     "execution_count": 5,
     "metadata": {},
     "output_type": "execute_result"
    }
   ],
   "source": [
    "operations(3,5)"
   ]
  },
  {
   "cell_type": "markdown",
   "metadata": {},
   "source": [
    "El método `norm` del módulo de algebra lineal `linalg` de NumPy retorna la norma de un vector."
   ]
  },
  {
   "cell_type": "code",
   "execution_count": 6,
   "metadata": {},
   "outputs": [],
   "source": [
    "def norm(A, B):\n",
    "    \"\"\"\n",
    "    Takes two Numpy column arrays, A and B, and returns the L2 norm of their\n",
    "    sum.\n",
    "\n",
    "    Arg:\n",
    "      A - a Numpy array\n",
    "      B - a Numpy array\n",
    "    Returns:\n",
    "      s - the L2 norm of A+B.\n",
    "    \"\"\"\n",
    "    s = np.linalg.norm(A + B)\n",
    "    return s"
   ]
  },
  {
   "cell_type": "code",
   "execution_count": 7,
   "metadata": {},
   "outputs": [
    {
     "data": {
      "text/plain": [
       "11.661903789690601"
      ]
     },
     "execution_count": 7,
     "metadata": {},
     "output_type": "execute_result"
    }
   ],
   "source": [
    "norm(np.array([2,3]), np.array([4,7]))"
   ]
  },
  {
   "cell_type": "code",
   "execution_count": 8,
   "metadata": {},
   "outputs": [],
   "source": [
    "def neural_network(inputs, weights):\n",
    "    \"\"\"\n",
    "     Takes an input vector and runs it through a 1-layer neural network\n",
    "     with a given weight matrix and returns the output.\n",
    "\n",
    "     Arg:\n",
    "       inputs - 2 x 1 NumPy array\n",
    "       weights - 2 x 1 NumPy array\n",
    "     Returns (in this order):\n",
    "       out - a 1 x 1 NumPy array, representing the output of the neural network\n",
    "    \"\"\"\n",
    "    out = np.tanh(np.matmul(weights.transpose(), inputs))\n",
    "    return out"
   ]
  },
  {
   "cell_type": "code",
   "execution_count": 9,
   "metadata": {},
   "outputs": [
    {
     "data": {
      "text/plain": [
       "array([[0.9997164]])"
      ]
     },
     "execution_count": 9,
     "metadata": {},
     "output_type": "execute_result"
    }
   ],
   "source": [
    "inputs = np.array([[3],[4]])\n",
    "weights = np.random.random([2,1])\n",
    "neural_network(inputs, weights)"
   ]
  },
  {
   "cell_type": "code",
   "execution_count": 18,
   "metadata": {},
   "outputs": [],
   "source": [
    "def scalar_function(x, y):\n",
    "    \"\"\"\n",
    "    Returns the f(x,y) defined in the problem statement.\n",
    "    \"\"\"\n",
    "    #Your code here\n",
    "    result = 0.0\n",
    "    if x <= y:\n",
    "        result = x*y\n",
    "    else:\n",
    "        if y == 0.0:\n",
    "            return \"division by zero\"\n",
    "        result = x/y\n",
    "    return result"
   ]
  },
  {
   "cell_type": "code",
   "execution_count": 19,
   "metadata": {},
   "outputs": [
    {
     "data": {
      "text/plain": [
       "'division by zero'"
      ]
     },
     "execution_count": 19,
     "metadata": {},
     "output_type": "execute_result"
    }
   ],
   "source": [
    "scalar_function(5, 0)"
   ]
  },
  {
   "cell_type": "markdown",
   "metadata": {},
   "source": [
    "`scalar_function` solo puede manejar la entrada escalar, se puede utilizar la función `np.vectorize()` para convertirla en una función vectorizada. Hay que tener en cuenta que el argumento de entrada de `np.vectorize()` debe ser una función escalar, y la salida de `np.vectorize()` es una nueva función que puede manejar la entrada de vectores.\n",
    "\n",
    "Se escribe una función vectorial `vector_function`, que aplicará la operación $f(x, y)$ definida ateriormente de forma inteligente con los vectores de entrada con la **misma dimensión** `x` e `y`."
   ]
  },
  {
   "cell_type": "code",
   "execution_count": 45,
   "metadata": {},
   "outputs": [],
   "source": [
    "def vector_function(x, y):\n",
    "    \"\"\"\n",
    "    Make sure vector_function can deal with vector input x,y \n",
    "    \"\"\"\n",
    "    if isinstance(x, int) and isinstance(y, int):\n",
    "        return scalar_function(x, y)\n",
    "    X = x\n",
    "    Y = y\n",
    "    if isinstance(x, list) and isinstance(y, list):\n",
    "        X = np.array(x)\n",
    "        Y = np.array(y)\n",
    "    if isinstance(X, np.ndarray) and isinstance(Y, np.ndarray):\n",
    "        if X.shape == Y.shape:\n",
    "            func_vectorized = np.vectorize(scalar_function)\n",
    "            return func_vectorized(X,Y)\n",
    "    return 'Illegal parameters'\n",
    "    "
   ]
  },
  {
   "cell_type": "code",
   "execution_count": 51,
   "metadata": {},
   "outputs": [],
   "source": [
    "X = np.array([[3], [4], [5]])\n",
    "Y = np.array([[6], [8], [7]])\n",
    "AX = [[3], [4], [5]]\n",
    "AY = [[6], [8], [7]]\n",
    "x = 5\n",
    "y = 7"
   ]
  },
  {
   "cell_type": "code",
   "execution_count": 54,
   "metadata": {},
   "outputs": [],
   "source": [
    "def get_sum_metrics(predictions, metrics=[]):\n",
    "    for i in range(3):\n",
    "        metrics.append(lambda x: x + i)\n",
    "\n",
    "    sum_metrics = 0\n",
    "    for metric in metrics:\n",
    "        sum_metrics += metric(predictions)\n",
    "\n",
    "    return sum_metrics"
   ]
  },
  {
   "cell_type": "code",
   "execution_count": 60,
   "metadata": {},
   "outputs": [],
   "source": [
    "def saludo(nombre, apellidos=[]):\n",
    "    if len(apellidos)==0:\n",
    "        apellidos.append('Moros')\n",
    "        apellidos.append('Sales')\n",
    "    print(\"Hola \", nombre, apellidos)"
   ]
  },
  {
   "cell_type": "code",
   "execution_count": 63,
   "metadata": {},
   "outputs": [],
   "source": [
    "def main():\n",
    "    saludo('gonzalo')\n",
    "    saludo('gonzalo', ['fernandez'])"
   ]
  },
  {
   "cell_type": "code",
   "execution_count": 64,
   "metadata": {},
   "outputs": [
    {
     "name": "stdout",
     "output_type": "stream",
     "text": [
      "Hola  gonzalo ['Moros', 'Sales']\n",
      "Hola  gonzalo ['fernandez']\n"
     ]
    }
   ],
   "source": [
    "main()"
   ]
  },
  {
   "cell_type": "code",
   "execution_count": null,
   "metadata": {},
   "outputs": [],
   "source": []
  }
 ],
 "metadata": {
  "kernelspec": {
   "display_name": "Python 3",
   "language": "python",
   "name": "python3"
  },
  "language_info": {
   "codemirror_mode": {
    "name": "ipython",
    "version": 3
   },
   "file_extension": ".py",
   "mimetype": "text/x-python",
   "name": "python",
   "nbconvert_exporter": "python",
   "pygments_lexer": "ipython3",
   "version": "3.7.3"
  }
 },
 "nbformat": 4,
 "nbformat_minor": 2
}
